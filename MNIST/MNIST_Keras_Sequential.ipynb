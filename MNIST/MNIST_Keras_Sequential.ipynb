{
  "cells": [
    {
      "cell_type": "markdown",
      "metadata": {
        "id": "4rQqOUeBhl_y"
      },
      "source": [
        "# 임베디드시스템 및 IoT로의 활용 2분반\n",
        "\n",
        "## 32184074 컴퓨터공학과 정민준\n",
        "## 2023/03/22"
      ]
    },
    {
      "cell_type": "markdown",
      "metadata": {
        "id": "BUdCjIxSiASM"
      },
      "source": [
        "## Library"
      ]
    },
    {
      "cell_type": "code",
      "execution_count": 178,
      "metadata": {
        "id": "RCVu2VX6IxDG"
      },
      "outputs": [],
      "source": [
        "import numpy as np\n",
        "import tensorflow as tf\n",
        "from tensorflow import keras\n",
        "from keras.layers import Dense\n",
        "from keras.models import Sequential"
      ]
    },
    {
      "cell_type": "markdown",
      "metadata": {
        "id": "eAjEEkKsMmCn"
      },
      "source": [
        "## Prepare Data\n",
        "Preparing Training Data"
      ]
    },
    {
      "cell_type": "code",
      "execution_count": 193,
      "metadata": {
        "id": "9zVsfjgkMWJ1"
      },
      "outputs": [],
      "source": [
        "from keras.datasets import mnist #데이터셋"
      ]
    },
    {
      "cell_type": "code",
      "execution_count": 194,
      "metadata": {
        "id": "mSfUX-3jOXNY"
      },
      "outputs": [],
      "source": [
        "(X_train, Y_train), (X_test,Y_test) = mnist.load_data()"
      ]
    },
    {
      "cell_type": "code",
      "execution_count": 195,
      "metadata": {
        "colab": {
          "base_uri": "https://localhost:8080/"
        },
        "id": "FTSl0g6BOiE5",
        "outputId": "9911d51c-48eb-4318-f445-f6ae6abe22dd"
      },
      "outputs": [
        {
          "output_type": "stream",
          "name": "stdout",
          "text": [
            "Training Data shape:  (60000, 28, 28)\n",
            "Training label shape:  (60000,)\n",
            "Test Data shape:  (10000, 28, 28)\n",
            "Test label shape:  (10000,)\n"
          ]
        }
      ],
      "source": [
        "print(\"Training Data shape: \", X_train.shape)\n",
        "print(\"Training label shape: \", Y_train.shape)\n",
        "\n",
        "print(\"Test Data shape: \", X_test.shape)\n",
        "print(\"Test label shape: \", Y_test.shape)"
      ]
    },
    {
      "cell_type": "code",
      "execution_count": 196,
      "metadata": {
        "id": "d_HSBsFVQkp6"
      },
      "outputs": [],
      "source": [
        "#정규화(Normalization)\n",
        "X_train = X_train.reshape(60000, 28*28).astype('float32')/255.0\n",
        "X_test = X_test.reshape(10000, 28*28).astype('float32')/255.0"
      ]
    },
    {
      "cell_type": "code",
      "execution_count": 197,
      "metadata": {
        "id": "pr_-OqdyUGft"
      },
      "outputs": [],
      "source": [
        "#원-핫 인코딩(One-Hot Encoding)\n",
        "Y_train = keras.utils.to_categorical(Y_train,10)\n",
        "Y_test = keras.utils.to_categorical(Y_test,10)"
      ]
    },
    {
      "cell_type": "markdown",
      "metadata": {
        "id": "r_Gsfdm-WlY6"
      },
      "source": [
        "## Design Model"
      ]
    },
    {
      "cell_type": "code",
      "execution_count": 198,
      "metadata": {
        "id": "B7HmM6HnWoZl",
        "colab": {
          "base_uri": "https://localhost:8080/"
        },
        "outputId": "44aa1c96-038d-4df0-ad16-fa8bf1660095"
      },
      "outputs": [
        {
          "output_type": "stream",
          "name": "stdout",
          "text": [
            "Epoch 1/40\n",
            "3000/3000 [==============================] - 12s 4ms/step - loss: 0.2236 - accuracy: 0.9338 - val_loss: 0.1148 - val_accuracy: 0.9653\n",
            "Epoch 2/40\n",
            "3000/3000 [==============================] - 11s 4ms/step - loss: 0.1101 - accuracy: 0.9684 - val_loss: 0.1092 - val_accuracy: 0.9701\n",
            "Epoch 3/40\n",
            "3000/3000 [==============================] - 11s 4ms/step - loss: 0.0807 - accuracy: 0.9766 - val_loss: 0.1222 - val_accuracy: 0.9640\n",
            "Epoch 4/40\n",
            "3000/3000 [==============================] - 12s 4ms/step - loss: 0.0657 - accuracy: 0.9807 - val_loss: 0.1856 - val_accuracy: 0.9570\n",
            "Epoch 5/40\n",
            "3000/3000 [==============================] - 11s 4ms/step - loss: 0.0524 - accuracy: 0.9854 - val_loss: 0.1217 - val_accuracy: 0.9722\n",
            "Epoch 6/40\n",
            "3000/3000 [==============================] - 10s 3ms/step - loss: 0.0478 - accuracy: 0.9858 - val_loss: 0.1366 - val_accuracy: 0.9726\n",
            "Epoch 7/40\n",
            "3000/3000 [==============================] - 10s 3ms/step - loss: 0.0413 - accuracy: 0.9889 - val_loss: 0.1231 - val_accuracy: 0.9752\n",
            "Epoch 8/40\n",
            "3000/3000 [==============================] - 10s 3ms/step - loss: 0.0397 - accuracy: 0.9898 - val_loss: 0.1422 - val_accuracy: 0.9722\n",
            "Epoch 9/40\n",
            "3000/3000 [==============================] - 11s 4ms/step - loss: 0.0359 - accuracy: 0.9904 - val_loss: 0.1472 - val_accuracy: 0.9750\n",
            "Epoch 10/40\n",
            "3000/3000 [==============================] - 11s 4ms/step - loss: 0.0363 - accuracy: 0.9906 - val_loss: 0.1374 - val_accuracy: 0.9780\n",
            "Epoch 11/40\n",
            "3000/3000 [==============================] - 11s 4ms/step - loss: 0.0283 - accuracy: 0.9926 - val_loss: 0.1723 - val_accuracy: 0.9733\n",
            "Epoch 12/40\n",
            "3000/3000 [==============================] - 11s 4ms/step - loss: 0.0324 - accuracy: 0.9920 - val_loss: 0.1492 - val_accuracy: 0.9764\n",
            "Epoch 13/40\n",
            "3000/3000 [==============================] - 10s 3ms/step - loss: 0.0289 - accuracy: 0.9930 - val_loss: 0.2051 - val_accuracy: 0.9764\n",
            "Epoch 14/40\n",
            "3000/3000 [==============================] - 10s 3ms/step - loss: 0.0302 - accuracy: 0.9928 - val_loss: 0.1784 - val_accuracy: 0.9768\n",
            "Epoch 15/40\n",
            "3000/3000 [==============================] - 10s 3ms/step - loss: 0.0292 - accuracy: 0.9942 - val_loss: 0.1524 - val_accuracy: 0.9777\n",
            "Epoch 16/40\n",
            "3000/3000 [==============================] - 10s 3ms/step - loss: 0.0269 - accuracy: 0.9935 - val_loss: 0.1934 - val_accuracy: 0.9776\n",
            "Epoch 17/40\n",
            "3000/3000 [==============================] - 11s 4ms/step - loss: 0.0257 - accuracy: 0.9946 - val_loss: 0.1809 - val_accuracy: 0.9763\n",
            "Epoch 18/40\n",
            "3000/3000 [==============================] - 10s 3ms/step - loss: 0.0278 - accuracy: 0.9946 - val_loss: 0.2039 - val_accuracy: 0.9760\n",
            "Epoch 19/40\n",
            "3000/3000 [==============================] - 12s 4ms/step - loss: 0.0265 - accuracy: 0.9942 - val_loss: 0.2464 - val_accuracy: 0.9727\n",
            "Epoch 20/40\n",
            "3000/3000 [==============================] - 11s 4ms/step - loss: 0.0271 - accuracy: 0.9942 - val_loss: 0.3171 - val_accuracy: 0.9699\n",
            "Epoch 21/40\n",
            "3000/3000 [==============================] - 11s 4ms/step - loss: 0.0225 - accuracy: 0.9950 - val_loss: 0.2396 - val_accuracy: 0.9774\n",
            "Epoch 22/40\n",
            "3000/3000 [==============================] - 11s 4ms/step - loss: 0.0222 - accuracy: 0.9952 - val_loss: 0.2164 - val_accuracy: 0.9778\n",
            "Epoch 23/40\n",
            "3000/3000 [==============================] - 10s 3ms/step - loss: 0.0198 - accuracy: 0.9954 - val_loss: 0.2755 - val_accuracy: 0.9743\n",
            "Epoch 24/40\n",
            "3000/3000 [==============================] - 11s 4ms/step - loss: 0.0203 - accuracy: 0.9956 - val_loss: 0.2229 - val_accuracy: 0.9808\n",
            "Epoch 25/40\n",
            "3000/3000 [==============================] - 11s 4ms/step - loss: 0.0249 - accuracy: 0.9950 - val_loss: 0.3014 - val_accuracy: 0.9778\n",
            "Epoch 26/40\n",
            "3000/3000 [==============================] - 10s 3ms/step - loss: 0.0234 - accuracy: 0.9956 - val_loss: 0.2291 - val_accuracy: 0.9765\n",
            "Epoch 27/40\n",
            "3000/3000 [==============================] - 11s 4ms/step - loss: 0.0184 - accuracy: 0.9960 - val_loss: 0.2789 - val_accuracy: 0.9784\n",
            "Epoch 28/40\n",
            "3000/3000 [==============================] - 10s 3ms/step - loss: 0.0220 - accuracy: 0.9959 - val_loss: 0.2464 - val_accuracy: 0.9802\n",
            "Epoch 29/40\n",
            "3000/3000 [==============================] - 10s 3ms/step - loss: 0.0217 - accuracy: 0.9962 - val_loss: 0.2785 - val_accuracy: 0.9760\n",
            "Epoch 30/40\n",
            "3000/3000 [==============================] - 10s 3ms/step - loss: 0.0153 - accuracy: 0.9968 - val_loss: 0.2579 - val_accuracy: 0.9793\n",
            "Epoch 31/40\n",
            "3000/3000 [==============================] - 10s 3ms/step - loss: 0.0201 - accuracy: 0.9970 - val_loss: 0.2855 - val_accuracy: 0.9804\n",
            "Epoch 32/40\n",
            "3000/3000 [==============================] - 12s 4ms/step - loss: 0.0214 - accuracy: 0.9967 - val_loss: 0.3255 - val_accuracy: 0.9797\n",
            "Epoch 33/40\n",
            "3000/3000 [==============================] - 11s 4ms/step - loss: 0.0233 - accuracy: 0.9964 - val_loss: 0.2380 - val_accuracy: 0.9797\n",
            "Epoch 34/40\n",
            "3000/3000 [==============================] - 11s 4ms/step - loss: 0.0177 - accuracy: 0.9966 - val_loss: 0.2547 - val_accuracy: 0.9768\n",
            "Epoch 35/40\n",
            "3000/3000 [==============================] - 11s 4ms/step - loss: 0.0195 - accuracy: 0.9963 - val_loss: 0.2944 - val_accuracy: 0.9797\n",
            "Epoch 36/40\n",
            "3000/3000 [==============================] - 11s 4ms/step - loss: 0.0130 - accuracy: 0.9973 - val_loss: 0.3422 - val_accuracy: 0.9777\n",
            "Epoch 37/40\n",
            "3000/3000 [==============================] - 11s 4ms/step - loss: 0.0273 - accuracy: 0.9959 - val_loss: 0.3239 - val_accuracy: 0.9803\n",
            "Epoch 38/40\n",
            "3000/3000 [==============================] - 10s 3ms/step - loss: 0.0156 - accuracy: 0.9974 - val_loss: 0.3849 - val_accuracy: 0.9769\n",
            "Epoch 39/40\n",
            "3000/3000 [==============================] - 10s 3ms/step - loss: 0.0136 - accuracy: 0.9976 - val_loss: 0.5182 - val_accuracy: 0.9783\n",
            "Epoch 40/40\n",
            "3000/3000 [==============================] - 11s 4ms/step - loss: 0.0230 - accuracy: 0.9971 - val_loss: 0.3338 - val_accuracy: 0.9783\n"
          ]
        }
      ],
      "source": [
        "model = Sequential()\n",
        "model.add(Dense(units=512, input_dim=(28*28), activation='relu')) #hidden layer:5, input layer: 28*28=784\n",
        "model.add(Dense(units=512, activation='relu')) #hidden layer:24\n",
        "model.add(Dense(units=512, activation='relu')) #hidden layer:64\n",
        "model.add(Dense(units=10, activation='softmax')) #output layer: 10(0~9)\n",
        "\n",
        "model.compile(optimizer='adam',loss='categorical_crossentropy',metrics=['accuracy'])\n",
        "\n",
        "history = model.fit(X_train,Y_train, batch_size=16, epochs=40, validation_split=0.2)"
      ]
    },
    {
      "cell_type": "code",
      "execution_count": 199,
      "metadata": {
        "colab": {
          "base_uri": "https://localhost:8080/"
        },
        "id": "cGfXX8fVkZRQ",
        "outputId": "e0e51ded-a904-42ed-c604-bc048f5507c7"
      },
      "outputs": [
        {
          "output_type": "stream",
          "name": "stdout",
          "text": [
            "313/313 [==============================] - 1s 2ms/step - loss: 0.2307 - accuracy: 0.9805\n"
          ]
        }
      ],
      "source": [
        "loss, accuracy = model.evaluate(X_test, Y_test)"
      ]
    }
  ],
  "metadata": {
    "accelerator": "GPU",
    "colab": {
      "collapsed_sections": [
        "BUdCjIxSiASM",
        "eAjEEkKsMmCn",
        "r_Gsfdm-WlY6"
      ],
      "provenance": []
    },
    "gpuClass": "standard",
    "kernelspec": {
      "display_name": "Python 3",
      "name": "python3"
    },
    "language_info": {
      "name": "python"
    }
  },
  "nbformat": 4,
  "nbformat_minor": 0
}