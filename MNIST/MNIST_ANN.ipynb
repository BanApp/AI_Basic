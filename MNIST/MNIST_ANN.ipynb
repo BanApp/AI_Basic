{
  "cells": [
    {
      "cell_type": "markdown",
      "metadata": {
        "id": "4rQqOUeBhl_y"
      },
      "source": [
        "# ANN을 이용한 MNIST 학습\n",
        "# 임베디드시스템 및 IoT로의 활용 2분반\n",
        "\n",
        "## 32184074 컴퓨터공학과 정민준\n",
        "## 2023/03/22"
      ]
    },
    {
      "cell_type": "markdown",
      "metadata": {
        "id": "BUdCjIxSiASM"
      },
      "source": [
        "## Library"
      ]
    },
    {
      "cell_type": "code",
      "execution_count": 75,
      "metadata": {
        "id": "RCVu2VX6IxDG"
      },
      "outputs": [],
      "source": [
        "import numpy as np\n",
        "import tensorflow as tf\n",
        "from tensorflow import keras\n",
        "from keras.layers import Dense\n",
        "from keras.models import Sequential"
      ]
    },
    {
      "cell_type": "markdown",
      "metadata": {
        "id": "eAjEEkKsMmCn"
      },
      "source": [
        "## Prepare Data\n",
        "Preparing Training Data"
      ]
    },
    {
      "cell_type": "code",
      "execution_count": 76,
      "metadata": {
        "id": "9zVsfjgkMWJ1"
      },
      "outputs": [],
      "source": [
        "from keras.datasets import mnist #데이터셋"
      ]
    },
    {
      "cell_type": "code",
      "execution_count": 77,
      "metadata": {
        "id": "mSfUX-3jOXNY"
      },
      "outputs": [],
      "source": [
        "(X_train, Y_train), (X_test,Y_test) = mnist.load_data()"
      ]
    },
    {
      "cell_type": "code",
      "execution_count": 78,
      "metadata": {
        "colab": {
          "base_uri": "https://localhost:8080/"
        },
        "id": "FTSl0g6BOiE5",
        "outputId": "bdbe4c33-ca29-4f85-9408-a7659c7fe149"
      },
      "outputs": [
        {
          "output_type": "stream",
          "name": "stdout",
          "text": [
            "Training Data shape:  (60000, 28, 28)\n",
            "Training label shape:  (60000,)\n",
            "Test Data shape:  (10000, 28, 28)\n",
            "Test label shape:  (10000,)\n"
          ]
        }
      ],
      "source": [
        "print(\"Training Data shape: \", X_train.shape)\n",
        "print(\"Training label shape: \", Y_train.shape)\n",
        "\n",
        "print(\"Test Data shape: \", X_test.shape)\n",
        "print(\"Test label shape: \", Y_test.shape)"
      ]
    },
    {
      "cell_type": "code",
      "execution_count": 79,
      "metadata": {
        "id": "d_HSBsFVQkp6"
      },
      "outputs": [],
      "source": [
        "#정규화(Normalization)\n",
        "X_train = X_train.reshape(60000, 28*28).astype('float32')/255.0\n",
        "X_test = X_test.reshape(10000, 28*28).astype('float32')/255.0"
      ]
    },
    {
      "cell_type": "code",
      "execution_count": 80,
      "metadata": {
        "id": "pr_-OqdyUGft"
      },
      "outputs": [],
      "source": [
        "#원-핫 인코딩(One-Hot Encoding)\n",
        "Y_train = keras.utils.to_categorical(Y_train,10)\n",
        "Y_test = keras.utils.to_categorical(Y_test,10)"
      ]
    },
    {
      "cell_type": "markdown",
      "metadata": {
        "id": "r_Gsfdm-WlY6"
      },
      "source": [
        "## Design Model"
      ]
    },
    {
      "cell_type": "code",
      "execution_count": 81,
      "metadata": {
        "id": "B7HmM6HnWoZl",
        "colab": {
          "base_uri": "https://localhost:8080/"
        },
        "outputId": "bf5a7f08-2718-45eb-a0e0-2a6a208ec511"
      },
      "outputs": [
        {
          "output_type": "stream",
          "name": "stdout",
          "text": [
            "Epoch 1/5\n",
            "3000/3000 [==============================] - 12s 4ms/step - loss: 0.3554 - accuracy: 0.8948 - val_loss: 0.1947 - val_accuracy: 0.9447\n",
            "Epoch 2/5\n",
            "3000/3000 [==============================] - 9s 3ms/step - loss: 0.1684 - accuracy: 0.9491 - val_loss: 0.1480 - val_accuracy: 0.9557\n",
            "Epoch 3/5\n",
            "3000/3000 [==============================] - 10s 3ms/step - loss: 0.1293 - accuracy: 0.9608 - val_loss: 0.1401 - val_accuracy: 0.9587\n",
            "Epoch 4/5\n",
            "3000/3000 [==============================] - 10s 3ms/step - loss: 0.1066 - accuracy: 0.9680 - val_loss: 0.1331 - val_accuracy: 0.9617\n",
            "Epoch 5/5\n",
            "3000/3000 [==============================] - 9s 3ms/step - loss: 0.0917 - accuracy: 0.9723 - val_loss: 0.1191 - val_accuracy: 0.9656\n"
          ]
        }
      ],
      "source": [
        "model = Sequential()\n",
        "\n",
        "model.add(Dense(units=32, input_dim=(28*28), activation='relu')) #hidden layer:32, input layer: 28*28=784\n",
        "model.add(Dense(units=16, activation='relu')) #hidden layer:16\n",
        "model.add(Dense(units=10, activation='softmax')) #output layer: 10(0~9)\n",
        "\n",
        "model.compile(optimizer='adam',loss='categorical_crossentropy',metrics=['accuracy'])\n",
        "\n",
        "history = model.fit(X_train,Y_train, batch_size=16, epochs=5, validation_split=0.2)"
      ]
    },
    {
      "cell_type": "code",
      "execution_count": 82,
      "metadata": {
        "colab": {
          "base_uri": "https://localhost:8080/"
        },
        "id": "cGfXX8fVkZRQ",
        "outputId": "c4672001-1f2b-4e59-f5c4-2e248f216c98"
      },
      "outputs": [
        {
          "output_type": "stream",
          "name": "stdout",
          "text": [
            "Model: \"sequential_9\"\n",
            "_________________________________________________________________\n",
            " Layer (type)                Output Shape              Param #   \n",
            "=================================================================\n",
            " dense_34 (Dense)            (None, 32)                25120     \n",
            "                                                                 \n",
            " dense_35 (Dense)            (None, 16)                528       \n",
            "                                                                 \n",
            " dense_36 (Dense)            (None, 10)                170       \n",
            "                                                                 \n",
            "=================================================================\n",
            "Total params: 25,818\n",
            "Trainable params: 25,818\n",
            "Non-trainable params: 0\n",
            "_________________________________________________________________\n"
          ]
        }
      ],
      "source": [
        "model.summary()"
      ]
    },
    {
      "cell_type": "code",
      "source": [
        "import matplotlib.pyplot as plt\n",
        "plt.plot(history.history['accuracy'])\n",
        "plt.plot(history.history['val_accuracy'])\n",
        "plt.title('model accuracy')\n",
        "plt.ylabel('accuracy')\n",
        "plt.xlabel('epoch')\n",
        "plt.legend(['training', 'validation'], loc='best')\n",
        "plt.show()"
      ],
      "metadata": {
        "colab": {
          "base_uri": "https://localhost:8080/",
          "height": 316
        },
        "id": "J4t648iHzs2h",
        "outputId": "80e61f45-beb7-4f9a-bbad-712e85a0dd11"
      },
      "execution_count": 83,
      "outputs": [
        {
          "output_type": "display_data",
          "data": {
            "text/plain": [
              "<Figure size 432x288 with 1 Axes>"
            ],
            "image/png": "[encoded data removed]"
          },
          "metadata": {
            "needs_background": "light"
          }
        }
      ]
    },
    {
      "cell_type": "code",
      "source": [
        "plt.plot(history.history['loss'])\n",
        "plt.plot(history.history['val_loss'])\n",
        "plt.title('model loss')\n",
        "plt.ylabel('loss')\n",
        "plt.xlabel('epoch')\n",
        "plt.legend(['training', 'validation'], loc='best')\n",
        "plt.show()"
      ],
      "metadata": {
        "colab": {
          "base_uri": "https://localhost:8080/",
          "height": 316
        },
        "id": "8Va7zTMx3GyI",
        "outputId": "d590636a-bd70-4fc4-cc5e-7195e335c27f"
      },
      "execution_count": 84,
      "outputs": [
        {
          "output_type": "display_data",
          "data": {
            "text/plain": [
              "<Figure size 432x288 with 1 Axes>"
            ],
            "image/png": "[encoded data removed]"
          },
          "metadata": {
            "needs_background": "light"
          }
        }
      ]
    },
    {
      "cell_type": "code",
      "source": [
        "loss, accuracy = model.evaluate(X_test, Y_test)"
      ],
      "metadata": {
        "colab": {
          "base_uri": "https://localhost:8080/"
        },
        "id": "ZAyO6cR5EdFw",
        "outputId": "5efa840f-41a7-46fb-ea8e-bc28b9b1943f"
      },
      "execution_count": 85,
      "outputs": [
        {
          "output_type": "stream",
          "name": "stdout",
          "text": [
            "313/313 [==============================] - 1s 2ms/step - loss: 0.1159 - accuracy: 0.9655\n"
          ]
        }
      ]
    }
  ],
  "metadata": {
    "accelerator": "GPU",
    "colab": {
      "collapsed_sections": [
        "BUdCjIxSiASM",
        "eAjEEkKsMmCn"
      ],
      "provenance": []
    },
    "gpuClass": "standard",
    "kernelspec": {
      "display_name": "Python 3",
      "name": "python3"
    },
    "language_info": {
      "name": "python"
    }
  },
  "nbformat": 4,
  "nbformat_minor": 0
}
